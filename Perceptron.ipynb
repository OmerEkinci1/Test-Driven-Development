{
 "cells": [],
 "metadata": {
  "kernelspec": {
   "display_name": "Python 3",
   "language": "python",
   "name": "python3"
  },
  "language_info": {
   "codemirror_mode": {
    "name": "ipython",
    "version": 2
   },
   "file_extension": ".py",
   "mimetype": "text/x-python",
   "name": "python",
   "nbconvert_exporter": "python",
   "pygments_lexer": "ipython2",
   "version": "2.7.6"
  },
  "pycharm": {
   "stem_cell": {
    "cell_type": "raw",
    "source": [
     "import numpy as np\n",
     "import tensorflow.keras\n",
     "from tensorflow.keras.models import Sequential\n",
     "from tensorflow.keras.layers import Dense\n",
     "from tensorflow.keras.optimizers import Adam\n",
     "import matplotlib.pyplot as plt\n",
     "%matplotlib inline\n",
     "\n",
     "n_pts = 500\n",
     "np.random.seed(0)\n",
     "Xa = np.array([np.random.normal(13, 2, n_pts),\n",
     "               np.random.normal(12, 2, n_pts)]).T\n",
     "Xb = np.array([np.random.normal(8, 2, n_pts),\n",
     "               np.random.normal(6, 2, n_pts)]).T\n",
     "\n",
     "X = np.vstack((Xa, Xb))\n",
     "y = np.matrix(np.append(np.zeros(n_pts), np.ones(n_pts))).T\n",
     "\n",
     "plt.scatter(X[:n_pts,0], X[:n_pts,1])\n",
     "plt.scatter(X[n_pts:,0], X[n_pts:,1])\n",
     "\n",
     "model = Sequential()\n",
     "model.add(Dense(units = 1, input_shape=(2,), activation='sigmoid'))\n",
     "adam = Adam(lr = 0.1)\n",
     "model.compile(adam, loss='binary_crossentropy', metrics=['accuracy'])\n",
     "h = model.fit(x=X,y=y, verbose=1, batch_size=50, epochs=500, shuffle='true')\n",
     "#batch size ile her iterationda error u biraz daha minimize ediyor.\n",
     "#epoch size ı güncellemek için daha çok zaman kazandırıyor.epoch verilerin ağa gösterilme sayısıdır aynı zamanda.\n",
     "#shuffle error un en az olduğu yeri yakalıyor.\n",
     "# loss ile errordan ne kadar sapma olduğunu buldum.\n",
     "\n",
     "plt.plot(h.history['accuracy'])\n",
     "plt.title('accuracy')\n",
     "plt.xlabel('epoch')\n",
     "plt.legend('accuracy')\n",
     "\n",
     "plt.plot(h.history['loss'])\n",
     "plt.title('loss')\n",
     "plt.xlabel('epoch')\n",
     "plt.legend('loss')\n",
     "\n",
     "def plot_decision_boundary(X, y, model):\n",
     "  x_span = np.linspace(min(X[:, 0]) - 1, max(X[:, 0]) + 1, 3)\n",
     "  y_span = np.linspace(min(X[: , 1]) - 1, max(X[:, 1]) + 1, 3)\n",
     "  xx , yy = np.meshgrid(x_span, y_span)\n",
     "  xx_, yy_ = xx.ravel(), yy.ravel()\n",
     "  grid = np.c_[xx_, yy_]\n",
     "  pred_func = model.predict(grid)\n",
     "  z = pred_func.reshape(xx.shape)\n",
     "  plt.contourf(xx,yy,z)\n",
     "  \n",
     "plot_decision_boundary(X,y,model)\n",
     "plt.scatter(X[:n_pts,0], X[:n_pts,1])\n",
     "plt.scatter(X[n_pts:,0], X[n_pts:,1])\n",
     "x = 7.5\n",
     "y = 5\n",
     "point = np.array([[x,y]])\n",
     "prediction = model.predict(point)\n",
     "plt.plot([x],[y],marker=\"o\", markersize=10, color='r')\n",
     "print(\"Prediction is:\", prediction)\n",
     "\n",
     "\n"
    ],
    "metadata": {
     "collapsed": false
    }
   }
  }
 },
 "nbformat": 4,
 "nbformat_minor": 0
}