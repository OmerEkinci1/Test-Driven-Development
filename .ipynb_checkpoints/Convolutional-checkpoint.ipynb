{
 "cells": [
  {
   "cell_type": "code",
   "execution_count": null,
   "metadata": {
    "id": "zgHZCbGu_zAg"
   },
   "outputs": [],
   "source": [
    "import numpy as np\n",
    "import matplotlib.pyplot as plt\n",
    "from tensorflow.keras.utils import Sequence\n",
    "import keras\n",
    "from keras.datasets import mnist\n",
    "from keras.models import Sequential\n",
    "from keras.layers import Dense\n",
    "from keras.optimizers import Adam\n",
    "from keras.utils.np_utils import to_categorical\n",
    "from keras.layers import Flatten\n",
    "from keras.layers.convolutional import Conv2D\n",
    "from keras.layers.convolutional import MaxPooling2D\n",
    "from keras.layers import Dropout\n",
    "from keras.models import Model\n",
    "import random"
   ]
  },
  {
   "cell_type": "code",
   "execution_count": null,
   "metadata": {
    "pycharm": {
     "name": "#%%\n"
    }
   },
   "outputs": [],
   "source": [
    "np.random.seed(0)"
   ]
  },
  {
   "cell_type": "code",
   "execution_count": null,
   "metadata": {
    "pycharm": {
     "is_executing": true,
     "name": "#%%\n"
    }
   },
   "outputs": [],
   "source": [
    "(X_train, y_train), (X_test, y_test)= mnist.load_data()\n",
    " \n",
    "print(X_train.shape)\n",
    "print(X_test.shape)\n",
    "assert(X_train.shape[0] == y_train.shape[0]), \"The number of images is not equal to the number of labels.\"\n",
    "assert(X_train.shape[1:] == (28,28)), \"The dimensions of the images are not 28 x 28.\"\n",
    "assert(X_test.shape[0] == y_test.shape[0]), \"The number of images is not equal to the number of labels.\"\n",
    "assert(X_test.shape[1:] == (28,28)), \"The dimensions of the images are not 28 x 28.\""
   ]
  },
  {
   "cell_type": "code",
   "execution_count": null,
   "metadata": {
    "pycharm": {
     "is_executing": true,
     "name": "#%%\n"
    }
   },
   "outputs": [],
   "source": [
    "num_of_samples=[]\n",
    " \n",
    "cols = 5\n",
    "num_classes = 10\n",
    " \n",
    "fig, axs = plt.subplots(nrows=num_classes, ncols=cols, figsize=(5,10))\n",
    "fig.tight_layout()\n",
    " \n",
    "for i in range(cols):\n",
    "    for j in range(num_classes):\n",
    "      x_selected = X_train[y_train == j]\n",
    "      axs[j][i].imshow(x_selected[random.randint(0,(len(x_selected) - 1)), :, :], cmap=plt.get_cmap('gray'))\n",
    "      axs[j][i].axis(\"off\")\n",
    "      if i == 2:\n",
    "        axs[j][i].set_title(str(j))\n",
    "        num_of_samples.append(len(x_selected))"
   ]
  },
  {
   "cell_type": "code",
   "execution_count": null,
   "metadata": {
    "pycharm": {
     "is_executing": true,
     "name": "#%%\n"
    }
   },
   "outputs": [],
   "source": [
    "print(num_of_samples)\n",
    "plt.figure(figsize=(12, 4))\n",
    "plt.bar(range(0, num_classes), num_of_samples)\n",
    "plt.title(\"Distribution of the train dataset\")\n",
    "plt.xlabel(\"Class number\")\n",
    "plt.ylabel(\"Number of images\")\n",
    "plt.show()"
   ]
  },
  {
   "cell_type": "code",
   "execution_count": null,
   "metadata": {
    "pycharm": {
     "is_executing": true,
     "name": "#%%\n"
    }
   },
   "outputs": [],
   "source": [
    "X_train = X_train.reshape(60000, 28, 28, 1)\n",
    "X_test = X_test.reshape(10000, 28, 28, 1)"
   ]
  },
  {
   "cell_type": "code",
   "execution_count": null,
   "metadata": {
    "pycharm": {
     "is_executing": true,
     "name": "#%%\n"
    }
   },
   "outputs": [],
   "source": [
    "y_train = to_categorical(y_train, 10)\n",
    "y_test = to_categorical(y_test, 10)\n",
    " \n",
    "X_train = X_train/255\n",
    "X_test = X_test/255"
   ]
  },
  {
   "cell_type": "code",
   "execution_count": null,
   "metadata": {
    "pycharm": {
     "is_executing": true,
     "name": "#%%\n"
    }
   },
   "outputs": [],
   "source": [
    "# lenet dataseti tanımlıyorum.\n",
    "def lenet_model():\n",
    "  model = Sequential()\n",
    "  model.add(Conv2D(30, (5,5), input_shape=(28,28,1), activation='relu', strides=1, padding='same'))\n",
    "  # modelde shapei verdiğimiz resmin pixellerine göre veriyorum, stride kaç kere gösterildiğini, padding resmi ne kadar küçülyüp,büyüyeceğini gösteriyor.\n",
    "  # modele filter ekliyorum istediğim kadar ekleyebilirim.Efektive olarak 30 tane filter kullanılıyor lenette.Daha fazlası yapılır ama fazla GPU gerekli.\n",
    "  model.add(MaxPooling2D(pool_size=(2,2)))\n",
    "  #max pooling size bana ulaşacabileceği max sizeı istiyor, ben değişmesini istemediğimden tuple olarak veriyorum.\n",
    "  model.add(Conv2D(15, (3,3), activation='relu'))\n",
    "  # activation kullanıcağımız tekniği belirtir.\n",
    "  model.add(MaxPooling2D(pool_size=(2,2)))\n",
    "  model.add(Flatten())\n",
    "  # oluşacak matrisi one dimensional hale getirmek için kullandığım fonksiyon.\n",
    "  model.add(Dense(500, activation='relu'))\n",
    "  model.add(Dropout(0.5))\n",
    "  # güncellemeden sonra oluşan fazlalığı dropout ile alıyorum.\n",
    "  # Dense ile görünmeyen layerları ekliyorum.\n",
    "  model.add(Dense(num_classes, activation='softmax'))\n",
    "  model.compile(Adam(lr = 0.01), loss=\"categorical_crossentropy\", metrics=['accuracy'])\n",
    "  return model"
   ]
  },
  {
   "cell_type": "code",
   "execution_count": null,
   "metadata": {
    "pycharm": {
     "is_executing": true,
     "name": "#%%\n"
    }
   },
   "outputs": [],
   "source": [
    "model = lenet_model()\n",
    "print(model.summary())"
   ]
  },
  {
   "cell_type": "code",
   "execution_count": null,
   "metadata": {
    "pycharm": {
     "is_executing": true,
     "name": "#%%\n"
    }
   },
   "outputs": [],
   "source": [
    "history = model.fit(X_train, y_train, epochs=10, validation_split=0.1, batch_size=400, verbose=1, shuffle= 1)\n",
    "# verbose progress bar için, 1 veya 0 değeri verilir sadece.\n",
    "#shuffle datanın çalışması için 0 veremeyiz."
   ]
  },
  {
   "cell_type": "code",
   "execution_count": null,
   "metadata": {
    "pycharm": {
     "is_executing": true,
     "name": "#%%\n"
    }
   },
   "outputs": [],
   "source": [
    "plt.plot(history.history['loss'])\n",
    "plt.plot(history.history['val_loss'])\n",
    "plt.legend(['loss','val_loss'])\n",
    "plt.title('Loss')\n",
    "plt.xlabel('epoch')"
   ]
  },
  {
   "cell_type": "code",
   "execution_count": null,
   "metadata": {
    "pycharm": {
     "is_executing": true,
     "name": "#%%\n"
    }
   },
   "outputs": [],
   "source": [
    "plt.plot(history.history['accuracy'])\n",
    "plt.plot(history.history['val_accuracy'])\n",
    "plt.legend(['accuracy','val_accuracy'])\n",
    "plt.title('Accuracy')\n",
    "plt.xlabel('epoch')"
   ]
  },
  {
   "cell_type": "code",
   "execution_count": null,
   "metadata": {
    "pycharm": {
     "is_executing": true,
     "name": "#%%\n"
    }
   },
   "outputs": [],
   "source": [
    "import requests \n",
    "from PIL import Image\n",
    "url = 'https://colah.github.io/posts/2014-10-Visualizing-MNIST/img/mnist_pca/MNIST-p1815-4.png'\n",
    "response = requests.get(url, stream=True)\n",
    "print(response)\n",
    "img = Image.open(response.raw)\n",
    "plt.imshow(img)"
   ]
  },
  {
   "cell_type": "code",
   "execution_count": null,
   "metadata": {
    "pycharm": {
     "is_executing": true,
     "name": "#%%\n"
    }
   },
   "outputs": [],
   "source": [
    "from cv2 import *\n",
    "\n",
    "img_array = np.asarray(img)\n",
    "resized = cv2.resize(img_array, (28, 28))\n",
    "gray_scale = cv2.cvtColor(resized, cv2.COLOR_BGR2GRAY)\n",
    "image = cv2.bitwise_not(gray_scale)\n",
    "#bitwise ile birlikte fotoğrafta ne kadar boşkuk varsa yani 0 lar 2:55 le dolduruluyor.yani aslında siyah olan yer beyaz \n",
    "#beyaz olan siyah oluyor. Böylelikle image i daha rahat yakalıyoruz.\n",
    "plt.imshow(image, cmap=plt.get_cmap(\"gray\"))\n",
    "print(image)"
   ]
  },
  {
   "cell_type": "code",
   "execution_count": null,
   "metadata": {
    "pycharm": {
     "is_executing": true,
     "name": "#%%\n"
    }
   },
   "outputs": [],
   "source": [
    "image = image/255\n",
    "image = image.reshape(1, 28, 28, 1)\n",
    "print(image)"
   ]
  },
  {
   "cell_type": "code",
   "execution_count": null,
   "metadata": {
    "pycharm": {
     "is_executing": true,
     "name": "#%%\n"
    }
   },
   "outputs": [],
   "source": [
    "prediction = model.predict_classes(img)\n",
    "print(\"predicted digit:\", str(prediction))\n"
   ]
  },
  {
   "cell_type": "code",
   "execution_count": null,
   "metadata": {
    "pycharm": {
     "is_executing": true,
     "name": "#%%\n"
    }
   },
   "outputs": [],
   "source": [
    "score = model.evaluate(X_test, y_test, verbose=0)\n",
    "print(type(score))\n",
    "print('Test score:', score[0])\n",
    "print('Test accuracy:', score[1])"
   ]
  },
  {
   "cell_type": "code",
   "execution_count": null,
   "metadata": {
    "pycharm": {
     "is_executing": true,
     "name": "#%%\n"
    }
   },
   "outputs": [],
   "source": [
    "layer1 = Model(inputs=model.layers[0].input, outputs=model.layers[0].output)\n",
    "layer2 = Model(inputs=model.layers[0].input, outputs= model.layers[2].output)\n",
    "\n",
    "visual_layer1, visual_layer2 = layer1.predict(img), layer2.predict(img)\n",
    "print(visual_layer1.shape)\n",
    "print(visual_layer2.shape)"
   ]
  },
  {
   "cell_type": "code",
   "execution_count": null,
   "metadata": {
    "pycharm": {
     "is_executing": true,
     "name": "#%%\n"
    }
   },
   "outputs": [],
   "source": [
    "plt.figure(figsize=(10,6))\n",
    "for i in range(30):\n",
    "  plt.subplot(6, 5, i+1)\n",
    "  plt.imshow(visual_layer1[0, :, : i], cmap=plt.get_cmap('jet'))\n",
    "  plt.axis('off')"
   ]
  },
  {
   "cell_type": "code",
   "execution_count": null,
   "metadata": {
    "pycharm": {
     "is_executing": true,
     "name": "#%%\n"
    }
   },
   "outputs": [],
   "source": [
    "plt.figure(figsize=(10,6))\n",
    "for i in range(15):\n",
    "  plt.subplot(3, 5, i+1)\n",
    "  plt.imshow(visual_layer2[0, :, : i], cmap=plt.get_cmap('jet'))\n",
    "  plt.axis('off')"
   ]
  },
  {
   "cell_type": "code",
   "execution_count": null,
   "metadata": {
    "id": "qDYK786W_11G",
    "pycharm": {
     "is_executing": true
    }
   },
   "outputs": [],
   "source": [
    "plt.figure(figsize=(10,6))\n",
    "for i in range(15):\n",
    "  plt.subplot(3, 5, i+1)\n",
    "  plt.imshow(visual_layer2[0, :, : i], cmap=plt.get_cmap('jet'))\n",
    "  plt.axis('off')"
   ]
  },
  {
   "cell_type": "code",
   "execution_count": null,
   "metadata": {
    "colab": {
     "base_uri": "https://localhost:8080/"
    },
    "id": "sXYHj3zU_4TR",
    "outputId": "88965715-9c3f-418f-dfe9-e30fd5e9dc00",
    "pycharm": {
     "is_executing": true
    }
   },
   "outputs": [],
   "source": [
    "(X_train, y_train), (X_test, y_test)= mnist.load_data()\n",
    " \n",
    "print(X_train.shape)\n",
    "print(X_test.shape)\n",
    "assert(X_train.shape[0] == y_train.shape[0]), \"The number of images is not equal to the number of labels.\"\n",
    "assert(X_train.shape[1:] == (28,28)), \"The dimensions of the images are not 28 x 28.\"\n",
    "assert(X_test.shape[0] == y_test.shape[0]), \"The number of images is not equal to the number of labels.\"\n",
    "assert(X_test.shape[1:] == (28,28)), \"The dimensions of the images are not 28 x 28.\""
   ]
  },
  {
   "cell_type": "code",
   "execution_count": null,
   "metadata": {
    "colab": {
     "base_uri": "https://localhost:8080/",
     "height": 718
    },
    "id": "u04cq347_6bT",
    "outputId": "327d2c3b-2356-4914-d6b5-6b340d9f0ab8",
    "pycharm": {
     "is_executing": true
    }
   },
   "outputs": [],
   "source": [
    "num_of_samples=[]\n",
    " \n",
    "cols = 5\n",
    "num_classes = 10\n",
    " \n",
    "fig, axs = plt.subplots(nrows=num_classes, ncols=cols, figsize=(5,10))\n",
    "fig.tight_layout()\n",
    " \n",
    "for i in range(cols):\n",
    "    for j in range(num_classes):\n",
    "      x_selected = X_train[y_train == j]\n",
    "      axs[j][i].imshow(x_selected[random.randint(0,(len(x_selected) - 1)), :, :], cmap=plt.get_cmap('gray'))\n",
    "      axs[j][i].axis(\"off\")\n",
    "      if i == 2:\n",
    "        axs[j][i].set_title(str(j))\n",
    "        num_of_samples.append(len(x_selected))"
   ]
  },
  {
   "cell_type": "code",
   "execution_count": null,
   "metadata": {
    "colab": {
     "base_uri": "https://localhost:8080/",
     "height": 312
    },
    "id": "w44PCNvF_8b9",
    "outputId": "28912939-41a7-449a-fafe-97f121c50d33",
    "pycharm": {
     "is_executing": true
    }
   },
   "outputs": [],
   "source": [
    "print(num_of_samples)\n",
    "plt.figure(figsize=(12, 4))\n",
    "plt.bar(range(0, num_classes), num_of_samples)\n",
    "plt.title(\"Distribution of the train dataset\")\n",
    "plt.xlabel(\"Class number\")\n",
    "plt.ylabel(\"Number of images\")\n",
    "plt.show()"
   ]
  },
  {
   "cell_type": "code",
   "execution_count": null,
   "metadata": {
    "id": "sZPp9Uil_-TK",
    "pycharm": {
     "is_executing": true
    }
   },
   "outputs": [],
   "source": [
    "X_train = X_train.reshape(60000, 28, 28, 1)\n",
    "X_test = X_test.reshape(10000, 28, 28, 1)"
   ]
  },
  {
   "cell_type": "code",
   "execution_count": null,
   "metadata": {
    "id": "oLKwOIci___C",
    "pycharm": {
     "is_executing": true
    }
   },
   "outputs": [],
   "source": [
    "y_train = to_categorical(y_train, 10)\n",
    "y_test = to_categorical(y_test, 10)\n",
    " \n",
    "X_train = X_train/255\n",
    "X_test = X_test/255"
   ]
  },
  {
   "cell_type": "code",
   "execution_count": null,
   "metadata": {
    "id": "c_L3b-6FAl4o",
    "pycharm": {
     "is_executing": true
    }
   },
   "outputs": [],
   "source": [
    "# lenet dataseti tanımlıyorum.\n",
    "def lenet_model():\n",
    "  model = Sequential()\n",
    "  model.add(Conv2D(30, (5,5), input_shape=(28,28,1), activation='relu', strides=1, padding='same'))\n",
    "  # modelde shapei verdiğimiz resmin pixellerine göre veriyorum, stride kaç kere gösterildiğini, padding resmi ne kadar küçülyüp,büyüyeceğini gösteriyor.\n",
    "  # modele filter ekliyorum istediğim kadar ekleyebilirim.Efektive olarak 30 tane filter kullanılıyor lenette.Daha fazlası yapılır ama fazla GPU gerekli.\n",
    "  model.add(MaxPooling2D(pool_size=(2,2)))\n",
    "  #max pooling size bana ulaşacabileceği max sizeı istiyor, ben değişmesini istemediğimden tuple olarak veriyorum.\n",
    "  model.add(Conv2D(15, (3,3), activation='relu'))\n",
    "  # activation kullanıcağımız tekniği belirtir.\n",
    "  model.add(MaxPooling2D(pool_size=(2,2)))\n",
    "  model.add(Flatten())\n",
    "  # oluşacak matrisi one dimensional hale getirmek için kullandığım fonksiyon.\n",
    "  model.add(Dense(500, activation='relu'))\n",
    "  model.add(Dropout(0.5))\n",
    "  # güncellemeden sonra oluşan fazlalığı dropout ile alıyorum.\n",
    "  # Dense ile görünmeyen layerları ekliyorum.\n",
    "  model.add(Dense(num_classes, activation='softmax'))\n",
    "  model.compile(Adam(lr = 0.01), loss=\"categorical_crossentropy\", metrics=['accuracy'])\n",
    "  return model"
   ]
  },
  {
   "cell_type": "code",
   "execution_count": null,
   "metadata": {
    "colab": {
     "base_uri": "https://localhost:8080/"
    },
    "id": "E5T3ZEuKF5hj",
    "outputId": "4221640e-112f-4cdb-f215-ffe97122a127",
    "pycharm": {
     "is_executing": true
    }
   },
   "outputs": [],
   "source": [
    "model = lenet_model()\n",
    "print(model.summary())"
   ]
  },
  {
   "cell_type": "code",
   "execution_count": null,
   "metadata": {
    "colab": {
     "base_uri": "https://localhost:8080/"
    },
    "id": "PZcSIkN5GNb-",
    "outputId": "2d6021d3-96ee-4eeb-f07a-53a6985854a7",
    "pycharm": {
     "is_executing": true
    }
   },
   "outputs": [],
   "source": [
    "history = model.fit(X_train, y_train, epochs=10, validation_split=0.1, batch_size=400, verbose=1, shuffle= 1)\n",
    "# verbose progress bar için, 1 veya 0 değeri verilir sadece.\n",
    "#shuffle datanın çalışması için 0 veremeyiz."
   ]
  },
  {
   "cell_type": "code",
   "execution_count": null,
   "metadata": {
    "colab": {
     "base_uri": "https://localhost:8080/",
     "height": 312
    },
    "id": "3U1TA-dXH2d9",
    "outputId": "35f63ee1-ee01-486d-d905-b1b0c4fb3ff6",
    "pycharm": {
     "is_executing": true
    }
   },
   "outputs": [],
   "source": [
    "plt.plot(history.history['loss'])\n",
    "plt.plot(history.history['val_loss'])\n",
    "plt.legend(['loss','val_loss'])\n",
    "plt.title('Loss')\n",
    "plt.xlabel('epoch')"
   ]
  },
  {
   "cell_type": "code",
   "execution_count": null,
   "metadata": {
    "colab": {
     "base_uri": "https://localhost:8080/",
     "height": 312
    },
    "id": "IL2XQrtcH_j_",
    "outputId": "8f8a4e64-edfe-4588-a07f-1af2a124f99b",
    "pycharm": {
     "is_executing": true
    }
   },
   "outputs": [],
   "source": [
    "plt.plot(history.history['accuracy'])\n",
    "plt.plot(history.history['val_accuracy'])\n",
    "plt.legend(['accuracy','val_accuracy'])\n",
    "plt.title('Accuracy')\n",
    "plt.xlabel('epoch')"
   ]
  },
  {
   "cell_type": "code",
   "execution_count": null,
   "metadata": {
    "colab": {
     "base_uri": "https://localhost:8080/",
     "height": 302
    },
    "id": "DqI4ftcUIYEz",
    "outputId": "b759c3c8-9731-4d8f-a34f-af2d5f1c6534",
    "pycharm": {
     "is_executing": true
    }
   },
   "outputs": [],
   "source": [
    "import requests \n",
    "from PIL import Image\n",
    "url = 'https://colah.github.io/posts/2014-10-Visualizing-MNIST/img/mnist_pca/MNIST-p1815-4.png'\n",
    "response = requests.get(url, stream=True)\n",
    "print(response)\n",
    "img = Image.open(response.raw)\n",
    "plt.imshow(img)"
   ]
  },
  {
   "cell_type": "code",
   "execution_count": null,
   "metadata": {
    "colab": {
     "base_uri": "https://localhost:8080/",
     "height": 1000
    },
    "id": "oITRkM4fIrcX",
    "outputId": "ab2bb787-badc-48eb-a69e-8494b14bc1e0",
    "pycharm": {
     "is_executing": true
    }
   },
   "outputs": [],
   "source": [
    "from cv2 import *\n",
    "\n",
    "img_array = np.asarray(img)\n",
    "resized = cv2.resize(img_array, (28, 28))\n",
    "gray_scale = cv2.cvtColor(resized, cv2.COLOR_BGR2GRAY)\n",
    "image = cv2.bitwise_not(gray_scale)\n",
    "#bitwise ile birlikte fotoğrafta ne kadar boşkuk varsa yani 0 lar 2:55 le dolduruluyor.yani aslında siyah olan yer beyaz \n",
    "#beyaz olan siyah oluyor. Böylelikle image i daha rahat yakalıyoruz.\n",
    "plt.imshow(image, cmap=plt.get_cmap(\"gray\"))\n",
    "print(image)"
   ]
  },
  {
   "cell_type": "code",
   "execution_count": null,
   "metadata": {
    "colab": {
     "base_uri": "https://localhost:8080/"
    },
    "id": "AMyEf7h4IzI5",
    "outputId": "28ba5ab3-b973-47ed-d070-7033d232083e",
    "pycharm": {
     "is_executing": true
    }
   },
   "outputs": [],
   "source": [
    "image = image/255\n",
    "image = image.reshape(1, 28, 28, 1)\n",
    "print(image)"
   ]
  },
  {
   "cell_type": "code",
   "execution_count": null,
   "metadata": {
    "colab": {
     "base_uri": "https://localhost:8080/",
     "height": 320
    },
    "id": "m9JUwt6UI5mO",
    "outputId": "9e0c5ffe-27bf-48d2-8b9b-220c99bc01b6",
    "pycharm": {
     "is_executing": true
    }
   },
   "outputs": [],
   "source": [
    "prediction = model.predict_classes(img)\n",
    "print(\"predicted digit:\", str(prediction))\n"
   ]
  },
  {
   "cell_type": "code",
   "execution_count": null,
   "metadata": {
    "id": "wppnPWY1K9ge",
    "pycharm": {
     "is_executing": true
    }
   },
   "outputs": [],
   "source": [
    "score = model.evaluate(X_test, y_test, verbose=0)\n",
    "print(type(score))\n",
    "print('Test score:', score[0])\n",
    "print('Test accuracy:', score[1])"
   ]
  },
  {
   "cell_type": "code",
   "execution_count": null,
   "metadata": {
    "id": "X_T0WyqlOS1h",
    "pycharm": {
     "is_executing": true
    }
   },
   "outputs": [],
   "source": [
    "layer1 = Model(inputs=model.layers[0].input, outputs=model.layers[0].output)\n",
    "layer2 = Model(inputs=model.layers[0].input, outputs= model.layers[2].output)\n",
    "\n",
    "visual_layer1, visual_layer2 = layer1.predict(img), layer2.predict(img)\n",
    "print(visual_layer1.shape)\n",
    "print(visual_layer2.shape)"
   ]
  },
  {
   "cell_type": "code",
   "execution_count": null,
   "metadata": {
    "id": "wPucImvGQzTq",
    "pycharm": {
     "is_executing": true
    }
   },
   "outputs": [],
   "source": [
    "plt.figure(figsize=(10,6))\n",
    "for i in range(30):\n",
    "  plt.subplot(6, 5, i+1)\n",
    "  plt.imshow(visual_layer1[0, :, : i], cmap=plt.get_cmap('jet'))\n",
    "  plt.axis('off')"
   ]
  },
  {
   "cell_type": "code",
   "execution_count": null,
   "metadata": {
    "id": "YywBTRt2R42I",
    "pycharm": {
     "is_executing": true
    }
   },
   "outputs": [],
   "source": [
    "plt.figure(figsize=(10,6))\n",
    "for i in range(15):\n",
    "  plt.subplot(3, 5, i+1)\n",
    "  plt.imshow(visual_layer2[0, :, : i], cmap=plt.get_cmap('jet'))\n",
    "  plt.axis('off')"
   ]
  }
 ],
 "metadata": {
  "colab": {
   "collapsed_sections": [],
   "name": "Convolutional.ipynb",
   "provenance": []
  },
  "kernelspec": {
   "display_name": "Python 3",
   "language": "python",
   "name": "python3"
  }
 },
 "nbformat": 4,
 "nbformat_minor": 1
}
