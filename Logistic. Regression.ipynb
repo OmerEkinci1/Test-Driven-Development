{
 "cells": [
  {
   "cell_type": "code",
   "execution_count": 1,
   "metadata": {},
   "outputs": [],
   "source": [
    "import numpy as np\n",
    "import matplotlib.pyplot as plt"
   ]
  },
  {
   "cell_type": "code",
   "execution_count": 2,
   "metadata": {},
   "outputs": [],
   "source": [
    "def draw(x1 ,x2):\n",
    "    ln = plt.plot(x1 ,x2)\n",
    "\n",
    "def sigmoid(score):\n",
    "    return 1/(1 + np.exp(-score))"
   ]
  },
  {
   "cell_type": "code",
   "execution_count": 3,
   "metadata": {},
   "outputs": [
    {
     "name": "stdout",
     "output_type": "stream",
     "text": [
      "[[0.06171502]\n",
      " [0.02860575]\n",
      " [0.04808318]\n",
      " [0.02863412]\n",
      " [0.02332924]\n",
      " [0.52717583]\n",
      " [0.22660793]\n",
      " [0.55951543]\n",
      " [0.53299762]\n",
      " [0.69430463]]\n"
     ]
    }
   ],
   "source": [
    "n_pts = 5\n",
    "np.random.seed(0)\n",
    "bias = np.ones(n_pts)\n",
    "top_region = np.array([np.random.normal(10,2,n_pts), np.random.normal(12,2,n_pts), bias]).T\n",
    "bottom_region = np.array([np.random.normal(5, 2, n_pts), np.random.normal(6, 2, n_pts),bias]).T\n",
    "all_points = np.vstack((top_region, bottom_region))\n",
    "w1 = -0.2\n",
    "w2 = -0.35\n",
    "b = 3.5\n",
    "line_parameters = np.matrix([w1 ,w2 ,b]).T\n",
    "x1 = np.array([bottom_region[:, 0].min(), top_region[:, 0].max()])\n",
    "x2 = -b / w2 +x1 * (-w1/w2)\n",
    "linear_combination = all_points*line_parameters\n",
    "probabilities = sigmoid(linear_combination)\n",
    "print(probabilities)"
   ]
  },
  {
   "cell_type": "code",
   "execution_count": 4,
   "metadata": {},
   "outputs": [],
   "source": [
    "_, ax =plt.subplots(figsize=(4, 4)) \n",
    "ax.scatter(top_region[:, 0], top_region[:, 1], color='r')\n",
    "ax.scatter(bottom_region[:, 0], bottom_region[:, 1], color='b')\n",
    "draw(x1 ,x2)\n",
    "plt.show()"
   ]
  },
  {
   "cell_type": "code",
   "execution_count": 4,
   "metadata": {},
   "outputs": [],
   "source": []
  }
 ],
 "metadata": {
  "kernelspec": {
   "display_name": "Python 3",
   "language": "python",
   "name": "python3"
  },
  "language_info": {
   "codemirror_mode": {
    "name": "ipython",
    "version": 3
   },
   "file_extension": ".py",
   "mimetype": "text/x-python",
   "name": "python",
   "nbconvert_exporter": "python",
   "pygments_lexer": "ipython3",
   "version": "3.6.6"
  }
 },
 "nbformat": 4,
 "nbformat_minor": 4
}