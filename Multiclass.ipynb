{
 "cells": [
  {
   "cell_type": "code",
   "execution_count": 1,
   "metadata": {},
   "outputs": [],
   "source": [
    "import numpy as np\n",
    "import matplotlib.pyplot as plt\n",
    "from sklearn import datasets\n",
    "import keras\n",
    "from keras.models import Sequential\n",
    "from keras.layers import Dense\n",
    "from keras.optimizers import Adam"
   ]
  },
  {
   "cell_type": "code",
   "execution_count": 2,
   "metadata": {
    "pycharm": {
     "name": "#%%\n"
    },
    "scrolled": true
   },
   "outputs": [
    {
     "name": "stdout",
     "output_type": "stream",
     "text": [
      "[2 2 2 0 1 0 0 2 2 2 1 1 0 0 1 2 2 2 2 0 2 0 1 2 1 2 0 0 2 1 1 0 0 2 1 0 2\n",
      " 0 2 0 0 2 1 0 2 0 1 2 0 2 0 1 1 0 1 2 2 0 1 2 0 2 0 2 1 0 1 1 1 1 2 1 1 1\n",
      " 1 1 2 1 1 2 0 1 2 2 1 0 2 1 1 2 0 0 2 1 2 2 0 1 2 0 2 1 1 2 2 0 0 1 2 1 1\n",
      " 2 0 0 1 0 2 2 2 2 1 2 1 2 0 2 2 0 1 0 0 0 0 2 0 1 0 2 2 0 2 2 2 2 1 2 0 0\n",
      " 0 2 1 0 2 0 0 1 1 0 2 0 0 1 1 2 2 0 2 1 2 2 2 1 1 1 2 0 0 1 0 1 2 2 1 1 2\n",
      " 1 1 0 0 2 2 1 0 0 0 0 2 2 0 2 1 1 2 0 0 2 2 0 1 0 2 0 2 2 0 0 2 1 2 0 2 0\n",
      " 1 1 2 0 0 0 2 1 2 2 2 0 0 1 0 2 0 2 0 2 1 1 1 2 2 1 1 1 0 1 2 1 0 1 2 2 0\n",
      " 0 0 1 1 1 2 1 1 2 1 1 2 0 0 0 2 0 2 0 0 0 2 1 1 0 2 1 0 0 1 1 1 1 2 1 1 0\n",
      " 0 0 2 1 1 1 0 0 0 0 0 0 0 1 2 1 2 1 0 2 0 0 1 2 0 1 2 2 2 2 2 0 1 2 0 2 1\n",
      " 0 0 1 2 0 2 0 1 1 0 2 1 0 1 1 1 0 2 0 2 0 1 1 0 1 1 1 2 2 0 2 0 2 2 1 1 0\n",
      " 2 2 2 1 1 1 2 2 0 1 2 1 2 0 1 2 2 2 0 1 1 1 2 0 2 0 0 2 1 1 1 2 0 1 0 0 1\n",
      " 1 2 0 0 1 2 1 1 0 2 0 1 0 2 0 0 0 1 1 1 2 0 1 1 0 2 1 2 1 1 1 1 0 0 0 0 0\n",
      " 2 2 1 1 0 1 0 2 2 2 2 0 0 1 1 0 0 1 1 1 2 2 1 1 1 1 0 0 2 0 1 0 1 0 1 1 2\n",
      " 2 0 2 2 1 0 1 2 0 2 0 2 1 0 2 0 1 1 0]\n",
      "[[0. 0. 1. 0. 0.]\n",
      " [0. 0. 1. 0. 0.]\n",
      " [0. 0. 1. 0. 0.]\n",
      " ...\n",
      " [0. 1. 0. 0. 0.]\n",
      " [0. 1. 0. 0. 0.]\n",
      " [1. 0. 0. 0. 0.]]\n"
     ]
    },
    {
     "data": {
      "image/png": "[encoded data removed]",
      "text/plain": [
       "<Figure size 432x288 with 1 Axes>"
      ]
     },
     "metadata": {
      "needs_background": "light"
     },
     "output_type": "display_data"
    }
   ],
   "source": [
    "n_pts = 500\n",
    "centers = [[-1,1],[-1,-1],[1,-1]]\n",
    "X,y = datasets.make_blobs(n_samples = n_pts, random_state=123, centers=centers, cluster_std=0.4)\n",
    "\n",
    "plt.scatter(X[y==0, 0], X[y==0, 1])\n",
    "plt.scatter(X[y==1, 0], X[y==1, 1])\n",
    "plt.scatter(X[y==2, 0], X[y==2, 1])\n",
    "plt.scatter(X[y==3, 0], X[y==3, 1])\n",
    "plt.scatter(X[y==4, 0], X[y==4, 1])\n",
    "\n",
    "print(y)\n",
    "y_cat = keras.utils.to_categorical(y, 5)\n",
    "print(y_cat)"
   ]
  },
  {
   "cell_type": "code",
   "execution_count": 3,
   "metadata": {
    "pycharm": {
     "name": "#%%\n"
    }
   },
   "outputs": [],
   "source": [
    "model = Sequential()\n",
    "model.add(Dense(5, input_shape=(2,), activation='softmax'))\n",
    "model.compile(Adam(lr=0.1), 'categorical_crossentropy', metrics=['accuracy'])"
   ]
  },
  {
   "cell_type": "code",
   "execution_count": 4,
   "metadata": {
    "pycharm": {
     "name": "#%%\n"
    }
   },
   "outputs": [
    {
     "name": "stdout",
     "output_type": "stream",
     "text": [
      "Epoch 1/100\n",
      "10/10 [==============================] - 0s 798us/step - loss: 0.8050 - accuracy: 0.7780\n",
      "Epoch 2/100\n",
      "10/10 [==============================] - 0s 598us/step - loss: 0.1796 - accuracy: 0.9880\n",
      "Epoch 3/100\n",
      "10/10 [==============================] - 0s 896us/step - loss: 0.0960 - accuracy: 0.9880\n",
      "Epoch 4/100\n",
      "10/10 [==============================] - 0s 798us/step - loss: 0.0733 - accuracy: 0.9900\n",
      "Epoch 5/100\n",
      "10/10 [==============================] - 0s 698us/step - loss: 0.0627 - accuracy: 0.9880\n",
      "Epoch 6/100\n",
      "10/10 [==============================] - 0s 598us/step - loss: 0.0572 - accuracy: 0.9880\n",
      "Epoch 7/100\n",
      "10/10 [==============================] - 0s 698us/step - loss: 0.0533 - accuracy: 0.9880\n",
      "Epoch 8/100\n",
      "10/10 [==============================] - 0s 598us/step - loss: 0.0503 - accuracy: 0.9880\n",
      "Epoch 9/100\n",
      "10/10 [==============================] - 0s 798us/step - loss: 0.0481 - accuracy: 0.9880\n",
      "Epoch 10/100\n",
      "10/10 [==============================] - 0s 798us/step - loss: 0.0463 - accuracy: 0.9900\n",
      "Epoch 11/100\n",
      "10/10 [==============================] - 0s 997us/step - loss: 0.0444 - accuracy: 0.9900\n",
      "Epoch 12/100\n",
      "10/10 [==============================] - 0s 1ms/step - loss: 0.0433 - accuracy: 0.9880\n",
      "Epoch 13/100\n",
      "10/10 [==============================] - 0s 698us/step - loss: 0.0424 - accuracy: 0.9880\n",
      "Epoch 14/100\n",
      "10/10 [==============================] - 0s 598us/step - loss: 0.0409 - accuracy: 0.9900\n",
      "Epoch 15/100\n",
      "10/10 [==============================] - 0s 698us/step - loss: 0.0396 - accuracy: 0.9880\n",
      "Epoch 16/100\n",
      "10/10 [==============================] - 0s 598us/step - loss: 0.0387 - accuracy: 0.9880\n",
      "Epoch 17/100\n",
      "10/10 [==============================] - 0s 598us/step - loss: 0.0379 - accuracy: 0.9900\n",
      "Epoch 18/100\n",
      "10/10 [==============================] - 0s 598us/step - loss: 0.0370 - accuracy: 0.9900\n",
      "Epoch 19/100\n",
      "10/10 [==============================] - 0s 898us/step - loss: 0.0363 - accuracy: 0.9900\n",
      "Epoch 20/100\n",
      "10/10 [==============================] - 0s 698us/step - loss: 0.0356 - accuracy: 0.9900\n",
      "Epoch 21/100\n",
      "10/10 [==============================] - 0s 898us/step - loss: 0.0354 - accuracy: 0.9900\n",
      "Epoch 22/100\n",
      "10/10 [==============================] - 0s 1ms/step - loss: 0.0346 - accuracy: 0.9900\n",
      "Epoch 23/100\n",
      "10/10 [==============================] - 0s 997us/step - loss: 0.0340 - accuracy: 0.9900\n",
      "Epoch 24/100\n",
      "10/10 [==============================] - 0s 1ms/step - loss: 0.0340 - accuracy: 0.9900\n",
      "Epoch 25/100\n",
      "10/10 [==============================] - 0s 1ms/step - loss: 0.0333 - accuracy: 0.9900\n",
      "Epoch 26/100\n",
      "10/10 [==============================] - 0s 1ms/step - loss: 0.0329 - accuracy: 0.9900\n",
      "Epoch 27/100\n",
      "10/10 [==============================] - 0s 1ms/step - loss: 0.0327 - accuracy: 0.9900\n",
      "Epoch 28/100\n",
      "10/10 [==============================] - 0s 1ms/step - loss: 0.0321 - accuracy: 0.9900\n",
      "Epoch 29/100\n",
      "10/10 [==============================] - 0s 1ms/step - loss: 0.0319 - accuracy: 0.9900\n",
      "Epoch 30/100\n",
      "10/10 [==============================] - 0s 1ms/step - loss: 0.0317 - accuracy: 0.9900\n",
      "Epoch 31/100\n",
      "10/10 [==============================] - 0s 1ms/step - loss: 0.0314 - accuracy: 0.9900\n",
      "Epoch 32/100\n",
      "10/10 [==============================] - 0s 1ms/step - loss: 0.0309 - accuracy: 0.9900\n",
      "Epoch 33/100\n",
      "10/10 [==============================] - 0s 1ms/step - loss: 0.0308 - accuracy: 0.9900\n",
      "Epoch 34/100\n",
      "10/10 [==============================] - 0s 1ms/step - loss: 0.0308 - accuracy: 0.9900\n",
      "Epoch 35/100\n",
      "10/10 [==============================] - 0s 1ms/step - loss: 0.0304 - accuracy: 0.9900\n",
      "Epoch 36/100\n",
      "10/10 [==============================] - 0s 1ms/step - loss: 0.0305 - accuracy: 0.9900\n",
      "Epoch 37/100\n",
      "10/10 [==============================] - 0s 1ms/step - loss: 0.0302 - accuracy: 0.9900\n",
      "Epoch 38/100\n",
      "10/10 [==============================] - 0s 898us/step - loss: 0.0297 - accuracy: 0.9900\n",
      "Epoch 39/100\n",
      "10/10 [==============================] - 0s 798us/step - loss: 0.0295 - accuracy: 0.9900\n",
      "Epoch 40/100\n",
      "10/10 [==============================] - 0s 798us/step - loss: 0.0291 - accuracy: 0.9900\n",
      "Epoch 41/100\n",
      "10/10 [==============================] - 0s 798us/step - loss: 0.0304 - accuracy: 0.9900\n",
      "Epoch 42/100\n",
      "10/10 [==============================] - 0s 1ms/step - loss: 0.0294 - accuracy: 0.9900\n",
      "Epoch 43/100\n",
      "10/10 [==============================] - 0s 1ms/step - loss: 0.0289 - accuracy: 0.9900\n",
      "Epoch 44/100\n",
      "10/10 [==============================] - 0s 997us/step - loss: 0.0285 - accuracy: 0.9900\n",
      "Epoch 45/100\n",
      "10/10 [==============================] - 0s 1ms/step - loss: 0.0283 - accuracy: 0.9900\n",
      "Epoch 46/100\n",
      "10/10 [==============================] - 0s 1ms/step - loss: 0.0291 - accuracy: 0.9900\n",
      "Epoch 47/100\n",
      "10/10 [==============================] - 0s 1ms/step - loss: 0.0286 - accuracy: 0.9900\n",
      "Epoch 48/100\n",
      "10/10 [==============================] - 0s 1ms/step - loss: 0.0284 - accuracy: 0.9900\n",
      "Epoch 49/100\n",
      "10/10 [==============================] - 0s 1ms/step - loss: 0.0280 - accuracy: 0.9900\n",
      "Epoch 50/100\n",
      "10/10 [==============================] - 0s 1ms/step - loss: 0.0286 - accuracy: 0.9900\n",
      "Epoch 51/100\n",
      "10/10 [==============================] - 0s 1ms/step - loss: 0.0276 - accuracy: 0.9900\n",
      "Epoch 52/100\n",
      "10/10 [==============================] - 0s 1ms/step - loss: 0.0276 - accuracy: 0.9900\n",
      "Epoch 53/100\n",
      "10/10 [==============================] - 0s 1ms/step - loss: 0.0274 - accuracy: 0.9900\n",
      "Epoch 54/100\n",
      "10/10 [==============================] - 0s 1ms/step - loss: 0.0274 - accuracy: 0.9900\n",
      "Epoch 55/100\n",
      "10/10 [==============================] - 0s 997us/step - loss: 0.0279 - accuracy: 0.9900\n",
      "Epoch 56/100\n",
      "10/10 [==============================] - 0s 1ms/step - loss: 0.0271 - accuracy: 0.9900\n",
      "Epoch 57/100\n",
      "10/10 [==============================] - 0s 1ms/step - loss: 0.0272 - accuracy: 0.9900\n",
      "Epoch 58/100\n",
      "10/10 [==============================] - 0s 1ms/step - loss: 0.0270 - accuracy: 0.9900\n",
      "Epoch 59/100\n",
      "10/10 [==============================] - 0s 1ms/step - loss: 0.0285 - accuracy: 0.9900\n",
      "Epoch 60/100\n",
      "10/10 [==============================] - 0s 1ms/step - loss: 0.0274 - accuracy: 0.9900\n",
      "Epoch 61/100\n",
      "10/10 [==============================] - 0s 997us/step - loss: 0.0271 - accuracy: 0.9900\n",
      "Epoch 62/100\n",
      "10/10 [==============================] - 0s 997us/step - loss: 0.0270 - accuracy: 0.9900\n",
      "Epoch 63/100\n",
      "10/10 [==============================] - 0s 798us/step - loss: 0.0266 - accuracy: 0.9900\n",
      "Epoch 64/100\n",
      "10/10 [==============================] - 0s 798us/step - loss: 0.0265 - accuracy: 0.9900\n",
      "Epoch 65/100\n",
      "10/10 [==============================] - 0s 1ms/step - loss: 0.0267 - accuracy: 0.9900\n",
      "Epoch 66/100\n",
      "10/10 [==============================] - 0s 997us/step - loss: 0.0268 - accuracy: 0.9900\n",
      "Epoch 67/100\n",
      "10/10 [==============================] - 0s 1ms/step - loss: 0.0267 - accuracy: 0.9900\n",
      "Epoch 68/100\n",
      "10/10 [==============================] - 0s 898us/step - loss: 0.0265 - accuracy: 0.9900\n",
      "Epoch 69/100\n",
      "10/10 [==============================] - 0s 997us/step - loss: 0.0265 - accuracy: 0.9900\n",
      "Epoch 70/100\n",
      "10/10 [==============================] - 0s 1ms/step - loss: 0.0263 - accuracy: 0.9900\n",
      "Epoch 71/100\n",
      "10/10 [==============================] - 0s 998us/step - loss: 0.0264 - accuracy: 0.9900\n",
      "Epoch 72/100\n",
      "10/10 [==============================] - 0s 997us/step - loss: 0.0261 - accuracy: 0.9900\n",
      "Epoch 73/100\n",
      "10/10 [==============================] - 0s 898us/step - loss: 0.0263 - accuracy: 0.9900\n",
      "Epoch 74/100\n",
      "10/10 [==============================] - 0s 997us/step - loss: 0.0260 - accuracy: 0.9900\n",
      "Epoch 75/100\n",
      "10/10 [==============================] - 0s 798us/step - loss: 0.0259 - accuracy: 0.9900\n",
      "Epoch 76/100\n",
      "10/10 [==============================] - 0s 898us/step - loss: 0.0259 - accuracy: 0.9900\n",
      "Epoch 77/100\n",
      "10/10 [==============================] - 0s 2ms/step - loss: 0.0263 - accuracy: 0.9900\n",
      "Epoch 78/100\n",
      "10/10 [==============================] - 0s 1ms/step - loss: 0.0267 - accuracy: 0.9880\n",
      "Epoch 79/100\n",
      "10/10 [==============================] - 0s 1ms/step - loss: 0.0260 - accuracy: 0.9880\n",
      "Epoch 80/100\n",
      "10/10 [==============================] - 0s 1ms/step - loss: 0.0259 - accuracy: 0.9900\n",
      "Epoch 81/100\n",
      "10/10 [==============================] - 0s 1ms/step - loss: 0.0258 - accuracy: 0.9900\n",
      "Epoch 82/100\n"
     ]
    },
    {
     "name": "stdout",
     "output_type": "stream",
     "text": [
      "10/10 [==============================] - 0s 1ms/step - loss: 0.0255 - accuracy: 0.9900\n",
      "Epoch 83/100\n",
      "10/10 [==============================] - 0s 1ms/step - loss: 0.0256 - accuracy: 0.9900\n",
      "Epoch 84/100\n",
      "10/10 [==============================] - 0s 1ms/step - loss: 0.0255 - accuracy: 0.9900\n",
      "Epoch 85/100\n",
      "10/10 [==============================] - 0s 997us/step - loss: 0.0253 - accuracy: 0.9900\n",
      "Epoch 86/100\n",
      "10/10 [==============================] - 0s 1ms/step - loss: 0.0257 - accuracy: 0.9900\n",
      "Epoch 87/100\n",
      "10/10 [==============================] - 0s 2ms/step - loss: 0.0257 - accuracy: 0.9900\n",
      "Epoch 88/100\n",
      "10/10 [==============================] - 0s 897us/step - loss: 0.0258 - accuracy: 0.9900\n",
      "Epoch 89/100\n",
      "10/10 [==============================] - 0s 898us/step - loss: 0.0257 - accuracy: 0.9880\n",
      "Epoch 90/100\n",
      "10/10 [==============================] - 0s 898us/step - loss: 0.0259 - accuracy: 0.9900\n",
      "Epoch 91/100\n",
      "10/10 [==============================] - 0s 798us/step - loss: 0.0264 - accuracy: 0.9900\n",
      "Epoch 92/100\n",
      "10/10 [==============================] - 0s 997us/step - loss: 0.0248 - accuracy: 0.9900\n",
      "Epoch 93/100\n",
      "10/10 [==============================] - 0s 898us/step - loss: 0.0266 - accuracy: 0.9880\n",
      "Epoch 94/100\n",
      "10/10 [==============================] - 0s 1ms/step - loss: 0.0260 - accuracy: 0.9900\n",
      "Epoch 95/100\n",
      "10/10 [==============================] - 0s 1ms/step - loss: 0.0257 - accuracy: 0.9900\n",
      "Epoch 96/100\n",
      "10/10 [==============================] - 0s 1ms/step - loss: 0.0252 - accuracy: 0.9900\n",
      "Epoch 97/100\n",
      "10/10 [==============================] - 0s 997us/step - loss: 0.0249 - accuracy: 0.9900\n",
      "Epoch 98/100\n",
      "10/10 [==============================] - 0s 997us/step - loss: 0.0251 - accuracy: 0.9900\n",
      "Epoch 99/100\n",
      "10/10 [==============================] - 0s 1ms/step - loss: 0.0248 - accuracy: 0.9900\n",
      "Epoch 100/100\n",
      "10/10 [==============================] - 0s 1ms/step - loss: 0.0251 - accuracy: 0.9900\n"
     ]
    }
   ],
   "source": [
    "history = model.fit(X, y_cat, verbose=1, batch_size = 50, epochs=100)"
   ]
  },
  {
   "cell_type": "code",
   "execution_count": 5,
   "metadata": {
    "pycharm": {
     "name": "#%%\n"
    }
   },
   "outputs": [],
   "source": [
    "def plot_multiclass_decision_boundary(X, y, model):\n",
    "    x_span = np.linspace(min(X[:,0]) - 1, max(X[:,0]) + 1)\n",
    "    y_span = np.linspace(min(X[:,1]) - 1, max(X[:,1]) + 1)\n",
    "    xx, yy = np.meshgrid(x_span, y_span)\n",
    "    grid = np.c_[xx.ravel(), yy.ravel()]\n",
    "    pred_func = model.predict_classes(grid)\n",
    "    z = pred_func.reshape(xx.shape)\n",
    "    plt.contourf(xx, yy, z)"
   ]
  },
  {
   "cell_type": "code",
   "execution_count": 6,
   "metadata": {
    "pycharm": {
     "name": "#%%\n"
    }
   },
   "outputs": [
    {
     "name": "stdout",
     "output_type": "stream",
     "text": [
      "WARNING:tensorflow:From <ipython-input-5-d0355f1f4654>:6: Sequential.predict_classes (from tensorflow.python.keras.engine.sequential) is deprecated and will be removed after 2021-01-01.\n",
      "Instructions for updating:\n",
      "Please use instead:* `np.argmax(model.predict(x), axis=-1)`,   if your model does multi-class classification   (e.g. if it uses a `softmax` last-layer activation).* `(model.predict(x) > 0.5).astype(\"int32\")`,   if your model does binary classification   (e.g. if it uses a `sigmoid` last-layer activation).\n",
      "Prediction is:  [1]\n"
     ]
    },
    {
     "data": {
      "image/png": "[encoded data removed]",
      "text/plain": [
       "<Figure size 432x288 with 1 Axes>"
      ]
     },
     "metadata": {
      "needs_background": "light"
     },
     "output_type": "display_data"
    }
   ],
   "source": [
    "plot_multiclass_decision_boundary(X, y_cat, model)\n",
    "plt.scatter(X[y==0, 0], X[y==0, 1])\n",
    "plt.scatter(X[y==1, 0], X[y==1, 1])\n",
    "plt.scatter(X[y==2, 0], X[y==2, 1])\n",
    "plt.scatter(X[y==3, 0], X[y==3, 1])\n",
    "plt.scatter(X[y==4, 0], X[y==4, 1])\n",
    "plot_multiclass_decision_boundary(X, y_cat, model)\n",
    "plt.scatter(X[y==0, 0], X[y==0, 1])\n",
    "plt.scatter(X[y==1, 0], X[y==1, 1])\n",
    "plt.scatter(X[y==2, 0], X[y==2, 1])\n",
    "plt.scatter(X[y==3, 0], X[y==3, 1])\n",
    "plt.scatter(X[y==4, 0], X[y==4, 1])\n",
    "\n",
    "x = -0.5\n",
    "y = -0.5\n",
    "\n",
    "point = np.array([[x, y]])\n",
    "prediction = model.predict_classes(point)\n",
    "plt.plot([x], [y], marker='o', markersize=10, color=\"yellow\")\n",
    "print(\"Prediction is: \", prediction)\n"
   ]
  }
 ],
 "metadata": {
  "kernelspec": {
   "display_name": "Python 3",
   "language": "python",
   "name": "python3"
  },
  "language_info": {
   "codemirror_mode": {
    "name": "ipython",
    "version": 3
   },
   "file_extension": ".py",
   "mimetype": "text/x-python",
   "name": "python",
   "nbconvert_exporter": "python",
   "pygments_lexer": "ipython3",
   "version": "3.6.6"
  }
 },
 "nbformat": 4,
 "nbformat_minor": 1
}